{
 "cells": [
  {
   "cell_type": "markdown",
   "metadata": {},
   "source": [
    "# NARPS Parametric design - 2nd level analysis"
   ]
  },
  {
   "cell_type": "markdown",
   "metadata": {},
   "source": [
    "load the unthresholded maps for specific hypothesis and apply thresholding"
   ]
  },
  {
   "cell_type": "code",
   "execution_count": 1,
   "metadata": {},
   "outputs": [],
   "source": [
    "%matplotlib inline"
   ]
  },
  {
   "cell_type": "code",
   "execution_count": 3,
   "metadata": {},
   "outputs": [
    {
     "name": "stderr",
     "output_type": "stream",
     "text": [
      "/Users/ilkay.isik/miniconda3/lib/python3.7/importlib/_bootstrap.py:219: ImportWarning: can't resolve package from __spec__ or __package__, falling back on __name__ and __path__\n",
      "  return f(*args, **kwds)\n"
     ]
    }
   ],
   "source": [
    "import socket\n",
    "import os\n",
    "import pandas as pd\n",
    "import numpy as np\n",
    "from glob import glob\n",
    "import nibabel as nib\n",
    "import nistats\n",
    "from nilearn import plotting\n",
    "from nistats.second_level_model import SecondLevelModel\n",
    "import matplotlib.pyplot as plt\n",
    "from nistats.reporting import plot_design_matrix\n",
    "from nilearn.plotting import plot_stat_map, plot_anat, plot_img, plot_glass_brain\n",
    "from nistats.thresholding import map_threshold"
   ]
  },
  {
   "cell_type": "code",
   "execution_count": 7,
   "metadata": {},
   "outputs": [
    {
     "name": "stdout",
     "output_type": "stream",
     "text": [
      "/Users/ilkay.isik/gdrive/NARPS/\n"
     ]
    }
   ],
   "source": [
    "myhost = socket.gethostname()\n",
    "if myhost == 'PCX0049':\n",
    "    root = '/Users/ilkay.isik/gdrive/NARPS/'\n",
    "print(root)"
   ]
  },
  {
   "cell_type": "code",
   "execution_count": 8,
   "metadata": {},
   "outputs": [
    {
     "data": {
      "text/plain": [
       "['/Users/ilkay.isik/gdrive/NARPS//Narps_maps/2nd_level_orig/wholebrainmaps_for_neurovault/hypo1_unthresh.nii.gz',\n",
       " '/Users/ilkay.isik/gdrive/NARPS//Narps_maps/2nd_level_orig/wholebrainmaps_for_neurovault/hypo2_unthresh.nii.gz',\n",
       " '/Users/ilkay.isik/gdrive/NARPS//Narps_maps/2nd_level_orig/wholebrainmaps_for_neurovault/hypo3_unthresh.nii.gz',\n",
       " '/Users/ilkay.isik/gdrive/NARPS//Narps_maps/2nd_level_orig/wholebrainmaps_for_neurovault/hypo4_unthresh.nii.gz',\n",
       " '/Users/ilkay.isik/gdrive/NARPS//Narps_maps/2nd_level_orig/wholebrainmaps_for_neurovault/hypo5_unthresh.nii.gz',\n",
       " '/Users/ilkay.isik/gdrive/NARPS//Narps_maps/2nd_level_orig/wholebrainmaps_for_neurovault/hypo6_unthresh.nii.gz',\n",
       " '/Users/ilkay.isik/gdrive/NARPS//Narps_maps/2nd_level_orig/wholebrainmaps_for_neurovault/hypo7_unthresh.nii.gz',\n",
       " '/Users/ilkay.isik/gdrive/NARPS//Narps_maps/2nd_level_orig/wholebrainmaps_for_neurovault/hypo8_unthresh.nii.gz',\n",
       " '/Users/ilkay.isik/gdrive/NARPS//Narps_maps/2nd_level_orig/wholebrainmaps_for_neurovault/hypo9_unthresh.nii.gz']"
      ]
     },
     "execution_count": 8,
     "metadata": {},
     "output_type": "execute_result"
    }
   ],
   "source": [
    "from nibabel import load, save, Nifti1Image\n",
    "zmaps = sorted(glob(root + '/Narps_maps/2nd_level_orig/wholebrainmaps_for_neurovault/*.nii.gz'))\n",
    "zmaps"
   ]
  },
  {
   "cell_type": "code",
   "execution_count": 15,
   "metadata": {},
   "outputs": [],
   "source": [
    "h, thr = 'fpr', 0.001\n",
    "for zmap in zmaps:\n",
    "    thr_img, threshold = map_threshold(zmap, level=thr, height_control=h)\n",
    "    thr_img.to_filename(zmap.replace('unthresh', 'thresh')) "
   ]
  },
  {
   "cell_type": "code",
   "execution_count": 14,
   "metadata": {},
   "outputs": [
    {
     "data": {
      "text/plain": [
       "3.090232306167813"
      ]
     },
     "execution_count": 14,
     "metadata": {},
     "output_type": "execute_result"
    }
   ],
   "source": [
    "threshold"
   ]
  },
  {
   "cell_type": "code",
   "execution_count": null,
   "metadata": {},
   "outputs": [],
   "source": []
  }
 ],
 "metadata": {
  "kernelspec": {
   "display_name": "Python 3",
   "language": "python",
   "name": "python3"
  },
  "language_info": {
   "codemirror_mode": {
    "name": "ipython",
    "version": 3
   },
   "file_extension": ".py",
   "mimetype": "text/x-python",
   "name": "python",
   "nbconvert_exporter": "python",
   "pygments_lexer": "ipython3",
   "version": "3.7.2"
  }
 },
 "nbformat": 4,
 "nbformat_minor": 2
}
