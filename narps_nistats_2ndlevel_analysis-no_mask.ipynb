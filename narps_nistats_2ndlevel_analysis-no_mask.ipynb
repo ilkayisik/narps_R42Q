{
 "cells": [
  {
   "cell_type": "markdown",
   "metadata": {},
   "source": [
    "# NARPS Parametric design - 2nd level analysis"
   ]
  },
  {
   "cell_type": "markdown",
   "metadata": {},
   "source": [
    "Parametric effect of gain:\n",
    "1. Positive effect in ventromedial PFC - for the equal indifference group\n",
    "2. Positive effect in ventromedial PFC - for the equal range group\n",
    "3. Positive effect in ventral striatum - for the equal indifference group\n",
    "4. Positive effect in ventral striatum - for the equal range group\n",
    "\n",
    "Parametric effect of loss:\n",
    "5. Negative effect in VMPFC - for the equal indifference group\n",
    "6. Negative effect in VMPFC - for the equal range group\n",
    "7. Positive effect in amygdala - for the equal indifference group\n",
    "8. Positive effect in amygdala - for the equal range group\n",
    "\n",
    "Equal range vs. equal indifference:\n",
    "9. Greater positive response to losses in amygdala for equal range condition vs. equal\n",
    "indifference condition.\n",
    "\n",
    "Other info:\n",
    "N = 108 (equal indifference group (n = 54), equal range group (n = 54))"
   ]
  },
  {
   "cell_type": "code",
   "execution_count": 1,
   "metadata": {},
   "outputs": [],
   "source": [
    "%matplotlib inline"
   ]
  },
  {
   "cell_type": "code",
   "execution_count": 2,
   "metadata": {},
   "outputs": [
    {
     "name": "stderr",
     "output_type": "stream",
     "text": [
      "/home/lmn/install/miniconda3/lib/python3.6/site-packages/h5py/__init__.py:36: FutureWarning: Conversion of the second argument of issubdtype from `float` to `np.floating` is deprecated. In future, it will be treated as `np.float64 == np.dtype(float).type`.\n",
      "  from ._conv import register_converters as _register_converters\n",
      "/home/lmn/install/miniconda3/lib/python3.6/importlib/_bootstrap.py:205: ImportWarning: can't resolve package from __spec__ or __package__, falling back on __name__ and __path__\n",
      "  return f(*args, **kwds)\n"
     ]
    }
   ],
   "source": [
    "import socket\n",
    "import random\n",
    "import os\n",
    "import pandas as pd\n",
    "import numpy as np\n",
    "from glob import glob\n",
    "import nibabel as nib\n",
    "import nistats\n",
    "from nilearn import plotting\n",
    "from nistats.second_level_model import SecondLevelModel\n",
    "import matplotlib.pyplot as plt\n",
    "from nistats.reporting import plot_design_matrix\n",
    "from nilearn.plotting import plot_stat_map, plot_anat, plot_img, plot_glass_brain\n",
    "from nistats.thresholding import map_threshold"
   ]
  },
  {
   "cell_type": "code",
   "execution_count": 3,
   "metadata": {},
   "outputs": [
    {
     "name": "stdout",
     "output_type": "stream",
     "text": [
      "/media/lmn/86A406A0A406933B5/narps\n"
     ]
    }
   ],
   "source": [
    "myhost = socket.gethostname()\n",
    "if myhost == 'lmn-pc':\n",
    "    root = '/media/lmn/86A406A0A406933B5/narps'\n",
    "\n",
    "print(root)"
   ]
  },
  {
   "cell_type": "code",
   "execution_count": 4,
   "metadata": {},
   "outputs": [],
   "source": [
    "# make 2nd level folder\n",
    "#if not os.path.exists(root + '/derivatives/nistats/2ndlevel'):\n",
    "   # os.makedirs(root + '/derivatives/nistats/2nd_level')\n",
    "    \n",
    "# Path for saving the maps\n",
    "savepath = root + '/derivatives/nistats/2nd_level/'"
   ]
  },
  {
   "cell_type": "code",
   "execution_count": 5,
   "metadata": {},
   "outputs": [
    {
     "data": {
      "text/plain": [
       "108"
      ]
     },
     "execution_count": 5,
     "metadata": {},
     "output_type": "execute_result"
    }
   ],
   "source": [
    "# 1st level path\n",
    "first_level_path = root + '/derivatives/nistats/1st_level/'\n",
    "\n",
    "# Load subject identifiers\n",
    "subject_ids = [s[-7:] for s in sorted(glob(first_level_path + 'sub-*'))]\n",
    "len(subject_ids)"
   ]
  },
  {
   "cell_type": "code",
   "execution_count": 6,
   "metadata": {},
   "outputs": [],
   "source": [
    "# Load participants file\n",
    "parti_file = root + '/event_tsvs/participants.tsv'\n",
    "parti = pd.read_csv(parti_file, sep='\\t')\n",
    "subject_selecter = [p in subject_ids for p in parti['participant_id']]\n",
    "parti = parti[subject_selecter]\n",
    "len(parti)\n",
    "\n",
    "# Different groups\n",
    "grp_eI = parti.loc[parti['group'] == 'equalIndifference']\n",
    "grp_eR = parti.loc[parti['group'] == 'equalRange']\n",
    "\n",
    "grp_eI_ind = np.ndarray.tolist(grp_eI.index.get_values())\n",
    "grp_eR_ind = np.ndarray.tolist(grp_eR.index.get_values())"
   ]
  },
  {
   "cell_type": "code",
   "execution_count": 7,
   "metadata": {},
   "outputs": [
    {
     "name": "stdout",
     "output_type": "stream",
     "text": [
      "Nr of subjects: 108\n",
      "Experimental conditions: ['Accept', 'Reject']\n",
      "Experimental Groups: ['equalIndifference' 'equalRange']\n"
     ]
    }
   ],
   "source": [
    "# some parameters\n",
    "nr_sub = int(len(subject_ids))\n",
    "print('Nr of subjects:', nr_sub)\n",
    "cond = ['Accept', 'Reject']\n",
    "nr_cond = len(cond)\n",
    "print('Experimental conditions:',['Accept','Reject'] )\n",
    "nr_groups = parti['group'].nunique()\n",
    "groups = parti['group'].unique()\n",
    "print('Experimental Groups:', parti['group'].unique())\n",
    "\n",
    "bg_img = root + '/derivatives/fmriflows/preproc_anat/template_brain_1.0_1.0_1.0.nii.gz'"
   ]
  },
  {
   "cell_type": "code",
   "execution_count": 8,
   "metadata": {},
   "outputs": [],
   "source": [
    "# subject 1st level maps\n",
    "# Accept or Gain\n",
    "acc = [first_level_path + '{0}/{0}_zmap_Accept_norm.nii.gz'.format(s, s)\n",
    "             for s in subject_ids]\n",
    "\n",
    "# Reject or Loss\n",
    "rej = [first_level_path + '{0}/{0}_zmap_Reject_norm.nii.gz'.format(s, s)\n",
    "             for s in subject_ids]\n",
    "\n",
    "# accept vs Reject or Gain vs Loss\n",
    "aVSr = [first_level_path + '{0}/{0}_zmap_AcceptVsReject_norm.nii.gz'.format(s, s)\n",
    "             for s in subject_ids]"
   ]
  },
  {
   "cell_type": "code",
   "execution_count": 9,
   "metadata": {},
   "outputs": [],
   "source": [
    "# maps for different groups\n",
    "# Gain maps\n",
    "acc_eI = [acc[i] for i in grp_eI_ind] \n",
    "acc_eR = [acc[i] for i in grp_eR_ind] \n",
    "\n",
    "# Loss maps\n",
    "rej_eI = [rej[i] for i in grp_eI_ind] \n",
    "rej_eR = [rej[i] for i in grp_eR_ind] \n",
    "\n",
    "# Gain vs Loss maps\n",
    "aVSr_eI = [aVSr[i] for i in grp_eI_ind] \n",
    "aVSr_eR = [aVSr[i] for i in grp_eR_ind] "
   ]
  },
  {
   "cell_type": "code",
   "execution_count": 10,
   "metadata": {},
   "outputs": [
    {
     "name": "stdout",
     "output_type": "stream",
     "text": [
      "0 /media/lmn/86A406A0A406933B5/narps/neurosynth_ROIs/ROI_amygdala_association-test_z_FDR_0.01.nii.gz\n",
      "1 /media/lmn/86A406A0A406933B5/narps/neurosynth_ROIs/ROI_ventral_striatum_association-test_z_FDR_0.01.nii.gz\n",
      "2 /media/lmn/86A406A0A406933B5/narps/neurosynth_ROIs/ROI_ventromedial_prefrontal_association-test_z_FDR_0.01.nii.gz\n"
     ]
    }
   ],
   "source": [
    "# Load Neurosynth ROIs, resmaple to 1 mm iso, binarize at a certain threshold and save out\n",
    "from nilearn.image import resample_to_img\n",
    "from nibabel import load, save, Nifti1Image\n",
    "lthr = [13.97, 13.86, 8.17]\n",
    "\n",
    "ns_ROIs = sorted(glob(root + '/neurosynth_ROIs/ROI_*_0.01.nii.gz'))\n",
    "\n",
    "for i, stat_img in enumerate(ns_ROIs):\n",
    "    print(i, stat_img)\n",
    "    resampled_stat_img = resample_to_img(stat_img, bg_img, interpolation='nearest')\n",
    "    data = resampled_stat_img.get_data()\n",
    "    bin_data = np.where(data > lthr[i], 1, 0) \n",
    "    \n",
    "    out = Nifti1Image(bin_data, header=resampled_stat_img.header, affine=resampled_stat_img.affine)\n",
    "    save(out, stat_img[:-6] + 'rsmpld_thr.nii.gz' )"
   ]
  },
  {
   "cell_type": "code",
   "execution_count": 11,
   "metadata": {},
   "outputs": [],
   "source": [
    "ns_labels = sorted(glob(root + '/neurosynth_ROIs/ROI_*thr*nii.gz'))\n",
    "ns_dict = {'amygdala': ns_labels[0], 'striatum': ns_labels[1], 'VMPFC':ns_labels[2]}"
   ]
  },
  {
   "cell_type": "code",
   "execution_count": 12,
   "metadata": {},
   "outputs": [
    {
     "name": "stderr",
     "output_type": "stream",
     "text": [
      "/home/lmn/install/miniconda3/lib/python3.6/site-packages/scipy/ndimage/measurements.py:272: DeprecationWarning: In future, it will be an error for 'np.bool_' scalars to be interpreted as an index\n",
      "  return _nd_image.find_objects(input, max_label)\n"
     ]
    }
   ],
   "source": [
    "for n in ns_dict:\n",
    "    plot_glass_brain(\n",
    "        ns_dict[n], plot_abs=True, symmetric_cbar=True,\n",
    "        black_bg=True, display_mode='lyrz', title='ROI {}'.format(n),\n",
    "        output_file= savepath + 'roi_' + n + '.png')"
   ]
  },
  {
   "cell_type": "markdown",
   "metadata": {},
   "source": [
    "# 2nd Level model"
   ]
  },
  {
   "cell_type": "markdown",
   "metadata": {},
   "source": [
    "One sample t-tests in each groups' simple contrasts (Accept, Reject)\n"
   ]
  },
  {
   "cell_type": "markdown",
   "metadata": {},
   "source": [
    "## Parametric effect of gain for the equal indifference group"
   ]
  },
  {
   "cell_type": "code",
   "execution_count": 13,
   "metadata": {
    "scrolled": true
   },
   "outputs": [
    {
     "name": "stderr",
     "output_type": "stream",
     "text": [
      "/home/lmn/install/miniconda3/lib/python3.6/site-packages/nilearn/_utils/cache_mixin.py:221: DeprecationWarning: The 'cachedir' attribute has been deprecated in version 0.12 and will be removed in version 0.14.\n",
      "Use os.path.join(memory.location, 'joblib') attribute instead.\n",
      "  if (memory.cachedir is None and memory_level is not None\n",
      "/home/lmn/install/miniconda3/lib/python3.6/site-packages/scipy/ndimage/measurements.py:272: DeprecationWarning: In future, it will be an error for 'np.bool_' scalars to be interpreted as an index\n",
      "  return _nd_image.find_objects(input, max_label)\n"
     ]
    }
   ],
   "source": [
    "name = cond[0] + '_' + groups[0] \n",
    "second_level_input = acc_eI\n",
    "design_matrix = pd.DataFrame([1] * len(second_level_input),\n",
    "                             columns=['intercept'])\n",
    "\n",
    "second_level_model = SecondLevelModel()\n",
    "second_level_model = second_level_model.fit(second_level_input,\n",
    "                                            design_matrix=design_matrix)\n",
    "\n",
    "# estimate the contrast\n",
    "z_map_01 = second_level_model.compute_contrast(output_type='z_score')\n",
    "save_name = savepath + 'zmap_' + name + '.nii.gz'\n",
    "z_map_01.to_filename(save_name)\n",
    "\n",
    "for h, thr in [['fpr', 0.001],\n",
    "               ['fdr', 0.05],\n",
    "               ['bonferroni', 0.05]]:\n",
    "    _, threshold = map_threshold(z_map_01, level=thr, height_control=h)\n",
    "\n",
    "    plot_glass_brain(\n",
    "        z_map_01, threshold=threshold, plot_abs=False, symmetric_cbar=False,\n",
    "        black_bg=True, display_mode='lyrz', colorbar=True,\n",
    "        title='{} ({}: {} - Z > {:.4})'.format(name, h, thr, threshold),\n",
    "        output_file= savepath + 'glass_' + name + '_' + h + '.png')"
   ]
  },
  {
   "cell_type": "markdown",
   "metadata": {},
   "source": [
    "## Parametric effect of loss for the equal indifference group"
   ]
  },
  {
   "cell_type": "code",
   "execution_count": 14,
   "metadata": {},
   "outputs": [
    {
     "name": "stderr",
     "output_type": "stream",
     "text": [
      "/home/lmn/install/miniconda3/lib/python3.6/site-packages/nilearn/_utils/cache_mixin.py:221: DeprecationWarning: The 'cachedir' attribute has been deprecated in version 0.12 and will be removed in version 0.14.\n",
      "Use os.path.join(memory.location, 'joblib') attribute instead.\n",
      "  if (memory.cachedir is None and memory_level is not None\n",
      "/home/lmn/install/miniconda3/lib/python3.6/site-packages/scipy/ndimage/measurements.py:272: DeprecationWarning: In future, it will be an error for 'np.bool_' scalars to be interpreted as an index\n",
      "  return _nd_image.find_objects(input, max_label)\n"
     ]
    }
   ],
   "source": [
    "name = cond[1] + '_' + groups[0] \n",
    "second_level_input = rej_eI\n",
    "design_matrix = pd.DataFrame([1] * len(second_level_input),\n",
    "                             columns=['intercept'])\n",
    "\n",
    "second_level_model = SecondLevelModel()\n",
    "second_level_model = second_level_model.fit(second_level_input,\n",
    "                                            design_matrix=design_matrix)\n",
    "\n",
    "# estimate the contrast\n",
    "z_map_02 = second_level_model.compute_contrast(output_type='z_score')\n",
    "save_name = savepath + 'zmap_' + name + '.nii.gz'\n",
    "z_map_02.to_filename(save_name)\n",
    "\n",
    "for h, thr in [['fpr', 0.001],\n",
    "               ['fdr', 0.05],\n",
    "               ['bonferroni', 0.05]]:\n",
    "    _, threshold = map_threshold(z_map_02, level=thr, height_control=h)\n",
    "\n",
    "    plot_glass_brain(\n",
    "        z_map_02, threshold=threshold, plot_abs=False, symmetric_cbar=False,\n",
    "        black_bg=True, display_mode='lyrz', colorbar=True,\n",
    "        title='{} ({}: {} - Z > {:.4})'.format(name, h, thr, threshold),\n",
    "        output_file= savepath + 'glass_' + name + '_' + h + '.png')"
   ]
  },
  {
   "cell_type": "markdown",
   "metadata": {},
   "source": [
    "## Parametric effect of gain for the equal range group"
   ]
  },
  {
   "cell_type": "code",
   "execution_count": 15,
   "metadata": {},
   "outputs": [
    {
     "name": "stderr",
     "output_type": "stream",
     "text": [
      "/home/lmn/install/miniconda3/lib/python3.6/site-packages/nilearn/_utils/cache_mixin.py:221: DeprecationWarning: The 'cachedir' attribute has been deprecated in version 0.12 and will be removed in version 0.14.\n",
      "Use os.path.join(memory.location, 'joblib') attribute instead.\n",
      "  if (memory.cachedir is None and memory_level is not None\n",
      "/home/lmn/install/miniconda3/lib/python3.6/site-packages/scipy/ndimage/measurements.py:272: DeprecationWarning: In future, it will be an error for 'np.bool_' scalars to be interpreted as an index\n",
      "  return _nd_image.find_objects(input, max_label)\n"
     ]
    }
   ],
   "source": [
    "name = cond[0] + '_' + groups[1] \n",
    "second_level_input = acc_eR\n",
    "design_matrix = pd.DataFrame([1] * len(second_level_input),\n",
    "                             columns=['intercept'])\n",
    "\n",
    "second_level_model = SecondLevelModel()\n",
    "second_level_model = second_level_model.fit(second_level_input,\n",
    "                                            design_matrix=design_matrix)\n",
    "\n",
    "# estimate the contrast\n",
    "z_map_03 = second_level_model.compute_contrast(output_type='z_score')\n",
    "save_name = savepath + 'zmap_' + name + '.nii.gz'\n",
    "z_map_03.to_filename(save_name)\n",
    "\n",
    "for h, thr in [['fpr', 0.001],\n",
    "               ['fdr', 0.05],\n",
    "               ['bonferroni', 0.05]]:\n",
    "    _, threshold = map_threshold(z_map_03, level=thr, height_control=h)\n",
    "\n",
    "    plot_glass_brain(\n",
    "        z_map_03, threshold=threshold, plot_abs=False, symmetric_cbar=False,\n",
    "        black_bg=True, display_mode='lyrz', colorbar=True,\n",
    "        title='{} ({}: {} - Z > {:.4})'.format(name, h, thr, threshold),\n",
    "        output_file= savepath + 'glass_' + name + '_' + h + '.png')"
   ]
  },
  {
   "cell_type": "markdown",
   "metadata": {},
   "source": [
    "## Parametric effect of loss for the equal range group"
   ]
  },
  {
   "cell_type": "code",
   "execution_count": 16,
   "metadata": {},
   "outputs": [
    {
     "name": "stderr",
     "output_type": "stream",
     "text": [
      "/home/lmn/install/miniconda3/lib/python3.6/site-packages/nilearn/_utils/cache_mixin.py:221: DeprecationWarning: The 'cachedir' attribute has been deprecated in version 0.12 and will be removed in version 0.14.\n",
      "Use os.path.join(memory.location, 'joblib') attribute instead.\n",
      "  if (memory.cachedir is None and memory_level is not None\n",
      "/home/lmn/install/miniconda3/lib/python3.6/site-packages/scipy/ndimage/measurements.py:272: DeprecationWarning: In future, it will be an error for 'np.bool_' scalars to be interpreted as an index\n",
      "  return _nd_image.find_objects(input, max_label)\n"
     ]
    }
   ],
   "source": [
    "name = cond[1] + '_' + groups[1] \n",
    "second_level_input = rej_eR\n",
    "design_matrix = pd.DataFrame([1] * len(second_level_input),\n",
    "                             columns=['intercept'])\n",
    "\n",
    "second_level_model = SecondLevelModel()\n",
    "second_level_model = second_level_model.fit(second_level_input,\n",
    "                                            design_matrix=design_matrix)\n",
    "\n",
    "# estimate the contrast\n",
    "z_map_04 = second_level_model.compute_contrast(output_type='z_score')\n",
    "save_name = savepath + 'zmap_' + name + '.nii.gz'\n",
    "z_map_04.to_filename(save_name)\n",
    "\n",
    "for h, thr in [['fpr', 0.001],\n",
    "               ['fdr', 0.05],\n",
    "               ['bonferroni', 0.05]]:\n",
    "    _, threshold = map_threshold(z_map_04, level=thr, height_control=h)\n",
    "\n",
    "    plot_glass_brain(\n",
    "        z_map_04, threshold=threshold, plot_abs=False, symmetric_cbar=False,\n",
    "        black_bg=True, display_mode='lyrz', colorbar=True,\n",
    "        title='{} ({}: {} - Z > {:.4})'.format(name, h, thr, threshold),\n",
    "        output_file= savepath + 'glass_' + name + '_' + h + '.png')"
   ]
  },
  {
   "cell_type": "markdown",
   "metadata": {},
   "source": [
    "# Group Comparison\n",
    "Equal range vs. equal indifference:\n",
    "Greater positive response to losses in amygdala for equal range condition vs. equal\n",
    "indifference condition."
   ]
  },
  {
   "cell_type": "code",
   "execution_count": 17,
   "metadata": {},
   "outputs": [],
   "source": [
    "second_level_input = rej\n",
    "grp_effect = np.zeros((nr_sub, 2))\n",
    "grp_effect[grp_eR_ind, 0] = 1\n",
    "grp_effect[grp_eI_ind, 1] = 1"
   ]
  },
  {
   "cell_type": "code",
   "execution_count": 18,
   "metadata": {},
   "outputs": [],
   "source": [
    "# DM for two-sample t-test\n",
    "design_matrix = pd.DataFrame(grp_effect, columns=['Equal', 'Indifference'])"
   ]
  },
  {
   "cell_type": "code",
   "execution_count": 19,
   "metadata": {
    "scrolled": true
   },
   "outputs": [
    {
     "data": {
      "image/png": "[encoded data removed]",
      "text/plain": [
       "<matplotlib.figure.Figure at 0x7f2bc8771898>"
      ]
     },
     "metadata": {},
     "output_type": "display_data"
    }
   ],
   "source": [
    "from nistats.reporting import plot_design_matrix\n",
    "\n",
    "plot_design_matrix(design_matrix)\n",
    "plt.savefig(savepath + 'group_comparison_dm.png', dpi =300)"
   ]
  },
  {
   "cell_type": "code",
   "execution_count": 20,
   "metadata": {},
   "outputs": [
    {
     "name": "stderr",
     "output_type": "stream",
     "text": [
      "/home/lmn/install/miniconda3/lib/python3.6/site-packages/nilearn/_utils/cache_mixin.py:221: DeprecationWarning: The 'cachedir' attribute has been deprecated in version 0.12 and will be removed in version 0.14.\n",
      "Use os.path.join(memory.location, 'joblib') attribute instead.\n",
      "  if (memory.cachedir is None and memory_level is not None\n"
     ]
    }
   ],
   "source": [
    "second_level_model = SecondLevelModel()\n",
    "second_level_model = second_level_model.fit(second_level_input,\n",
    "                                            design_matrix=design_matrix)\n",
    "\n",
    "# estimate the contrast and plot it\n",
    "z_map_grp = second_level_model.compute_contrast(\n",
    "    second_level_contrast=[1, -1],\n",
    "    second_level_stat_type='t',\n",
    "    output_type='z_score')\n",
    "save_name = savepath + 'zmap_GroupComparison.nii.gz'\n",
    "z_map_grp.to_filename(save_name)"
   ]
  },
  {
   "cell_type": "code",
   "execution_count": 21,
   "metadata": {},
   "outputs": [
    {
     "name": "stderr",
     "output_type": "stream",
     "text": [
      "/home/lmn/install/miniconda3/lib/python3.6/site-packages/nilearn/_utils/cache_mixin.py:221: DeprecationWarning: The 'cachedir' attribute has been deprecated in version 0.12 and will be removed in version 0.14.\n",
      "Use os.path.join(memory.location, 'joblib') attribute instead.\n",
      "  if (memory.cachedir is None and memory_level is not None\n",
      "/home/lmn/install/miniconda3/lib/python3.6/site-packages/scipy/ndimage/measurements.py:272: DeprecationWarning: In future, it will be an error for 'np.bool_' scalars to be interpreted as an index\n",
      "  return _nd_image.find_objects(input, max_label)\n"
     ]
    }
   ],
   "source": [
    "for h, thr in [['fpr', 0.001],\n",
    "               ['fdr', 0.05],\n",
    "               ['bonferroni', 0.05]]:\n",
    "    _, threshold = map_threshold(z_map_grp, level=thr, height_control=h)\n",
    "\n",
    "    plot_glass_brain(\n",
    "        z_map_grp, threshold=threshold, plot_abs=False, symmetric_cbar=False,\n",
    "        black_bg=True, display_mode='lyrz', colorbar=True,\n",
    "        title='{} ({}: {} - Z > {:.4})'.format('Range vs Indifference', h, thr, threshold),\n",
    "        output_file= savepath + 'glass__Group_Comparison_' + h + '.png')"
   ]
  },
  {
   "cell_type": "code",
   "execution_count": null,
   "metadata": {},
   "outputs": [],
   "source": []
  }
 ],
 "metadata": {
  "kernelspec": {
   "display_name": "Python 3",
   "language": "python",
   "name": "python3"
  },
  "language_info": {
   "codemirror_mode": {
    "name": "ipython",
    "version": 3
   },
   "file_extension": ".py",
   "mimetype": "text/x-python",
   "name": "python",
   "nbconvert_exporter": "python",
   "pygments_lexer": "ipython3",
   "version": "3.7.2"
  }
 },
 "nbformat": 4,
 "nbformat_minor": 2
}
